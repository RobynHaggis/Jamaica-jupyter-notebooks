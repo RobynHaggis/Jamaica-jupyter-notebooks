{
 "cells": [
  {
   "cell_type": "markdown",
   "id": "718b4fd1-3f02-4786-9ada-46719e82468b",
   "metadata": {},
   "source": [
    "# Generation of new return period flood maps based on % change in peak flow"
   ]
  },
  {
   "cell_type": "markdown",
   "id": "92caa077-9546-473a-bfc4-a53b97db096a",
   "metadata": {},
   "source": [
    "### Step 0: Import packages to work with and set up folder pathways"
   ]
  },
  {
   "cell_type": "code",
   "execution_count": 168,
   "id": "581ee89f-0c9a-43b4-a141-132c278a7714",
   "metadata": {},
   "outputs": [],
   "source": [
    "from pathlib import Path\n",
    "\n",
    "import numpy as np\n",
    "import pandas\n",
    "import rasterio\n",
    "import scipy\n",
    "\n",
    "from rasterio.warp import calculate_default_transform, reproject, Resampling"
   ]
  },
  {
   "cell_type": "code",
   "execution_count": 169,
   "id": "5fe557c8-461f-40ff-b207-0199157971f4",
   "metadata": {},
   "outputs": [
    {
     "name": "stdout",
     "output_type": "stream",
     "text": [
      "/Users/robynhaggis/Documents/Geospatial_analysis/Processed_data/Hazards\n"
     ]
    }
   ],
   "source": [
    "# Define the directory containing your TIFF files - define hazards_path first to specify where the TIFF files are located.\n",
    "\n",
    "hazards_path = Path(\"/Users/robynhaggis/Documents/Geospatial_analysis/Processed_data/Hazards\")\n",
    "output_path = Path(\"/Users/robynhaggis/Documents/Geospatial_analysis/Processed_data\")\n",
    "jamaica_metric_grid_crs = \"EPSG:3448\"\n",
    "\n",
    "print(hazards_path)"
   ]
  },
  {
   "cell_type": "markdown",
   "id": "afa51298-d3fc-4ec8-a701-505babf6b94e",
   "metadata": {},
   "source": [
    "### Step 1: Read in return period maps"
   ]
  },
  {
   "cell_type": "code",
   "execution_count": 170,
   "id": "2cf1b724-736f-419f-b549-53b3e9199a4c",
   "metadata": {},
   "outputs": [
    {
     "data": {
      "text/plain": [
       "'All files in directory:'"
      ]
     },
     "metadata": {},
     "output_type": "display_data"
    },
    {
     "data": {
      "text/plain": [
       "['JM_FLRF_UD_Q50_RD_02.tfw',\n",
       " 'JM_FLRF_UD_Q10_RD_02_aligned.tif',\n",
       " 'JM_FLRF_UD_Q50_RD_02.tif',\n",
       " 'JM_FLRF_UD_Q1500_RD_02.tif.ovr',\n",
       " 'JM_FLRF_UD_Q50_RD_02.tif.xml',\n",
       " '.DS_Store',\n",
       " 'JM_FLRF_UD_Q50_RD_02_flow0.8.tif',\n",
       " 'JM_FLRF_UD_Q50_RD_02_flow0.9.tif',\n",
       " 'JM_FLRF_UD_Q100_RD_02_flow0.9.tif',\n",
       " 'JM_FLRF_UD_Q20_RD_02_aligned.tif',\n",
       " 'JM_FLRF_UD_Q100_RD_02.tif.xml',\n",
       " 'JM_FLRF_UD_Q20_RD_02.tif.xml',\n",
       " 'JM_FLRF_UD_Q5_RD_02-aligned.tif',\n",
       " 'JM_FLRF_UD_Q100_RD_02_flow0.8.tif',\n",
       " 'JM_FLRF_UD_Q20_RD_02.tif.aux.xml',\n",
       " 'JM_FLRF_UD_Q500_RD_02.tfw',\n",
       " 'JM_FLRF_UD_Q20_RD_02_flow0.6.tif',\n",
       " 'JM_FLRF_UD_Q500_RD_02.tif',\n",
       " 'JM_FLRF_UD_Q1500_RD_02.tif.xml',\n",
       " 'JM_FLRF_UD_Q50_RD_02.tif.ovr',\n",
       " 'JM_FLRF_UD_Q2_RD_02-aligned.tif',\n",
       " 'JM_FLRF_UD_Q10_RD_02_flow0.6.tif',\n",
       " 'JM_FLRF_UD_Q20_RD_02.tif',\n",
       " 'JM_FLRF_UD_Q20_RD_02.tif.ovr',\n",
       " 'JM_FLRF_UD_Q100_RD_02.tif.ovr',\n",
       " 'JM_FLRF_UD_Q20_RD_02.tfw',\n",
       " 'JM_FLRF_UD_Q10_RD_02_flow0.8.tif',\n",
       " 'JM_FLRF_UD_Q2_RD_02_aligned.tif',\n",
       " 'JM_FLRF_UD_Q50_RD_02_flow0.95.tif',\n",
       " 'JM_FLRF_UD_Q10_RD_02_flow0.9.tif',\n",
       " 'JM_FLRF_UD_Q200_RD_02.tif.xml',\n",
       " 'JM_FLRF_UD_Q500_RD_02_aligned.tif',\n",
       " 'JM_FLRF_UD_Q10_RD_02.tif',\n",
       " 'JM_FLRF_UD_Q10_RD_02_flow0.95.tif',\n",
       " 'JM_FLRF_UD_Q200_RD_02.tfw',\n",
       " 'JM_FLRF_UD_Q500_RD_02.tif.xml',\n",
       " 'JM_FLRF_UD_Q200_RD_02.tif',\n",
       " 'JM_FLRF_UD_Q200_RD_02_aligned.tif',\n",
       " 'JM_FLRF_UD_Q50_RD_02_aligned.tif',\n",
       " 'JM_FLRF_UD_Q1500_RD_02.tif.aux.xml',\n",
       " 'JM_FLRF_UD_Q5_RD_02.tif',\n",
       " 'JM_FLRF_UD_Q100_RD_02_aligned.tif',\n",
       " 'JM_FLRF_UD_Q20_RD_02_flow0.9.tif',\n",
       " 'JM_FLRF_UD_Q20_RD_02_flow0.8.tif',\n",
       " 'JM_FLRF_UD_Q20_RD_02_flow0.95.tif',\n",
       " 'JM_FLRF_UD_Q1500_RD_02.tif',\n",
       " 'JM_FLRF_UD_Q100_RD_02.tif.aux.xml',\n",
       " 'JM_FLRF_UD_Q50_RD_02_flow0.6.tif',\n",
       " 'JM_FLRF_UD_Q1500_RD_02.tfw',\n",
       " 'JM_FLRF_UD_Q100_RD_02_flow0.6.tif',\n",
       " 'JM_FLRF_UD_Q5_RD_02_aligned.tif',\n",
       " 'JM_FLRF_UD_Q100_RD_02.tif',\n",
       " 'JM_FLRF_UD_Q100_RD_02.tfw',\n",
       " 'JM_FLRF_UD_Q50_RD_02.tif.aux.xml',\n",
       " 'JM_FLRF_UD_Q200_RD_02.tif.ovr',\n",
       " 'JM_FLRF_UD_Q200_RD_02.tif.aux.xml',\n",
       " 'JM_FLRF_UD_Q2_RD_02.tif',\n",
       " 'JM_FLRF_UD_Q10_RD_02-aligned.tif',\n",
       " 'JM_FLRF_UD_Q500_RD_02.tif.ovr',\n",
       " 'JM_FLRF_UD_Q100_RD_02_flow0.95.tif',\n",
       " 'JM_FLRF_UD_Q500_RD_02.tif.aux.xml']"
      ]
     },
     "metadata": {},
     "output_type": "display_data"
    }
   ],
   "source": [
    "# List all files in the directory to check that it is pointing to the right place\n",
    "all_files = list(hazards_path.iterdir())\n",
    "display(\"All files in directory:\", [f.name for f in all_files])"
   ]
  },
  {
   "cell_type": "code",
   "execution_count": 189,
   "id": "73ec9d04-0de6-45f8-9072-bad2cd754705",
   "metadata": {},
   "outputs": [
    {
     "data": {
      "text/plain": [
       "'Loaded flood maps:'"
      ]
     },
     "metadata": {},
     "output_type": "display_data"
    },
    {
     "data": {
      "text/plain": [
       "dict_keys(['JM_FLRF_UD_Q10_RD_02_aligned', 'JM_FLRF_UD_Q50_RD_02', 'JM_FLRF_UD_Q50_RD_02_flow0.8', 'JM_FLRF_UD_Q50_RD_02_flow0.9', 'JM_FLRF_UD_Q100_RD_02_flow0.9', 'JM_FLRF_UD_Q20_RD_02_aligned', 'JM_FLRF_UD_Q5_RD_02-aligned', 'JM_FLRF_UD_Q100_RD_02_flow0.8', 'JM_FLRF_UD_Q20_RD_02_flow0.6', 'JM_FLRF_UD_Q500_RD_02', 'JM_FLRF_UD_Q2_RD_02-aligned', 'JM_FLRF_UD_Q10_RD_02_flow0.6', 'JM_FLRF_UD_Q20_RD_02', 'JM_FLRF_UD_Q10_RD_02_flow0.8', 'JM_FLRF_UD_Q2_RD_02_aligned', 'JM_FLRF_UD_Q50_RD_02_flow0.95', 'JM_FLRF_UD_Q10_RD_02_flow0.9', 'JM_FLRF_UD_Q500_RD_02_aligned', 'JM_FLRF_UD_Q10_RD_02', 'JM_FLRF_UD_Q10_RD_02_flow0.95', 'JM_FLRF_UD_Q200_RD_02', 'JM_FLRF_UD_Q200_RD_02_aligned', 'JM_FLRF_UD_Q50_RD_02_aligned', 'JM_FLRF_UD_Q5_RD_02', 'JM_FLRF_UD_Q100_RD_02_aligned', 'JM_FLRF_UD_Q20_RD_02_flow0.9', 'JM_FLRF_UD_Q20_RD_02_flow0.8', 'JM_FLRF_UD_Q20_RD_02_flow0.95', 'JM_FLRF_UD_Q1500_RD_02', 'JM_FLRF_UD_Q50_RD_02_flow0.6', 'JM_FLRF_UD_Q100_RD_02_flow0.6', 'JM_FLRF_UD_Q5_RD_02_aligned', 'JM_FLRF_UD_Q100_RD_02', 'JM_FLRF_UD_Q2_RD_02', 'JM_FLRF_UD_Q10_RD_02-aligned', 'JM_FLRF_UD_Q100_RD_02_flow0.95'])"
      ]
     },
     "metadata": {},
     "output_type": "display_data"
    }
   ],
   "source": [
    "# Read in river flood maps: found via processed data -> hazards -> Global Flood Map -> Jamaica -> Fluvial -> Raw Depths\n",
    "# Tifs as follows: [Q20_RD_02.tif; Q50_RD_02.tif; Q100_RD_02.tif; Q200_RD_02.tif; Q500_RD_02.tif]  \n",
    "\n",
    "\n",
    "# List all TIFF files in the directory of tiff hazards - list TIFF files in river_flood_tiff_files to make sure the path is correct.\n",
    "river_flood_tiff_files = list(hazards_path.glob('*.tif'))\n",
    "\n",
    "# Define the function to read a TIFF file\n",
    "def read_rp_map(fname: Path) -> np.ndarray:\n",
    "    \"\"\"Read flood map TIFF file into a NumPy array.\"\"\"\n",
    "    with rasterio.open(fname) as dataset:\n",
    "        data = dataset.read(1)\n",
    "        data[data == dataset.nodata] = 0  # Replace no-data values with 0\n",
    "    return data\n",
    "    \n",
    "# Read each TIFF file and store the data in a dictionary\n",
    "river_flood_maps = {file.stem: read_rp_map(file) for file in river_flood_tiff_files}\n",
    "\n",
    "# Print the names of the loaded files to verify - it prints the names of all the loaded tif files\n",
    "display(\"Loaded flood maps:\", river_flood_maps.keys())"
   ]
  },
  {
   "cell_type": "markdown",
   "id": "a6405773-c878-4caf-bf20-62d42ef228b4",
   "metadata": {},
   "source": [
    "### Step 2: Read in the file metadata"
   ]
  },
  {
   "cell_type": "code",
   "execution_count": 172,
   "id": "c3d11e0c-511e-4d27-9835-cd34a5d07085",
   "metadata": {},
   "outputs": [],
   "source": [
    "# Read metadata from an existing GeoTIFF file specified by fname. Extract the following:\n",
    "# -- CRS: The coordinate reference system.\n",
    "# -- Width and Height: The raster’s dimensions (in pixels).\n",
    "# -- Transform: The affine transformation matrix for georeferencing (e.g., linking pixel coordinates to geographic space).\n",
    "# -- Purpose: This function does not modify the TIFF file; it only reads and returns the metadata.\n",
    "\n",
    "def read_metadata(fname):\n",
    "    with rasterio.open(fname) as dataset:\n",
    "        crs = dataset.crs\n",
    "        width = dataset.width\n",
    "        height = dataset.height\n",
    "        transform = dataset.transform\n",
    "    return crs, width, height, transform\n",
    "\n",
    "\n",
    "def reproject_raster(input_path, output_path, target_crs, target_shape=None, target_transform=None):\n",
    "    \"\"\"Reproject and resample a raster to a common CRS, resolution, and extent.\"\"\"\n",
    "    with rasterio.open(input_path) as src:\n",
    "        if target_transform and target_shape:\n",
    "            transform = target_transform\n",
    "            width, height = target_shape\n",
    "        else:\n",
    "            transform, width, height = calculate_default_transform(\n",
    "                src.crs, target_crs, src.width, src.height, *src.bounds\n",
    "            )\n",
    "        \n",
    "        kwargs = src.meta.copy()\n",
    "        kwargs.update({\n",
    "            'crs': target_crs,\n",
    "            'transform': transform,\n",
    "            'width': width,\n",
    "            'height': height,\n",
    "        })\n",
    "        \n",
    "        with rasterio.open(output_path, 'w', **kwargs) as dst:\n",
    "            for i in range(1, src.count + 1):\n",
    "                reproject(\n",
    "                    source=rasterio.band(src, i),\n",
    "                    destination=rasterio.band(dst, i),\n",
    "                    src_transform=src.transform,\n",
    "                    src_crs=src.crs,\n",
    "                    dst_transform=transform,\n",
    "                    dst_crs=target_crs,\n",
    "                    resampling=Resampling.nearest\n",
    "                )"
   ]
  },
  {
   "cell_type": "code",
   "execution_count": 173,
   "id": "454b2ac6-89df-47d5-94ca-c81dcd8ca5e4",
   "metadata": {},
   "outputs": [],
   "source": [
    "# Save the data (a NumPy array) to a new GeoTIFF file at the specified fname. It includes the provided:\n",
    "# -- CRS: Specifies the coordinate reference system for georeferencing.\n",
    "# -- Transform: Links the raster data to geographic coordinates.\n",
    "# -- Uses \"w\" mode to write a new file. If fname already exists, it will be overwritten.\n",
    "# -- Compresses the data using LZW compression to save disk space.\n",
    "\n",
    "\n",
    "### Check to see if I need to specify new file names\n",
    "\n",
    "def save_to_tif(data, fname, crs, transform):\n",
    "    with rasterio.open(\n",
    "        fname,\n",
    "        \"w\",\n",
    "        driver=\"GTiff\",\n",
    "        height=data.shape[0],\n",
    "        width=data.shape[1],\n",
    "        count=1,\n",
    "        dtype=data.dtype,\n",
    "        crs=crs,\n",
    "        transform=transform,\n",
    "        compress=\"lzw\",\n",
    "    ) as dataset:\n",
    "        dataset.write(data, 1)"
   ]
  },
  {
   "cell_type": "markdown",
   "id": "bf12588d-e242-46d5-92e5-cdf488b5bad6",
   "metadata": {},
   "source": [
    "### Step 3: Interpolate between flood maps in order to develop tifs of missing return periods (RP2,5,10)"
   ]
  },
  {
   "cell_type": "code",
   "execution_count": 174,
   "id": "c1480c4e-9f7b-497e-8013-53f13eab4ca1",
   "metadata": {},
   "outputs": [],
   "source": [
    "# Read all the different return period maps as TIFF files and return their data as a dictionary of NumPy arrays.\n",
    "\n",
    "# Function Signature:\n",
    "  # Input:\n",
    "\t# - rp_maps: A dictionary where:\n",
    "\t# - - Keys are float values representing return periods (e.g., 2, 5, 10, etc.).\n",
    "\t# - - Values are Path objects representing the file paths to the corresponding flood map TIFF files.\n",
    "  # Output:\n",
    "\t# - A dictionary (rp_data) where:\n",
    "\t# - - Keys are the same return periods (float values).\n",
    "\t# - - Values are NumPy arrays (np.ndarray) containing the raster data from the corresponding TIFF files.\n",
    "\n",
    "\n",
    "# def read_rp_maps(rp_maps: dict[float, Path]) -> dict[float, np.ndarray]:\n",
    "  #   \"\"\"Read flood map tiffs to dict of ndarrays\n",
    "   #  \"\"\"\n",
    "    # rp_data: dict[float, np.ndarray] = {}\n",
    "    # for rp, fname in rp_maps.items():\n",
    "      #   rp_data[rp] = read_rp_map(fname)\n",
    "    # return rp_data\n",
    "\n",
    "def read_rp_maps(rp_maps: dict[float, Path]) -> dict[float, np.ndarray]:\n",
    "    \"\"\"Read flood map TIFFs to dict of ndarrays, validating file existence\"\"\"\n",
    "    rp_data: dict[float, np.ndarray] = {}\n",
    "    for rp, fname in rp_maps.items():\n",
    "        if not Path(fname).exists():\n",
    "            raise FileNotFoundError(f\"Input file not found: {fname}\")\n",
    "        rp_data[rp] = read_rp_map(fname)\n",
    "    return rp_data"
   ]
  },
  {
   "cell_type": "code",
   "execution_count": 175,
   "id": "6d220ee5-c2e5-4da9-aa21-ddbd57ec49be",
   "metadata": {},
   "outputs": [],
   "source": [
    "def interpolate_depth(rp: float, rp_l: float, depth_l: np.ndarray, rp_u: float, depth_u: np.ndarray) -> np.ndarray:\n",
    "    \"\"\"Interpolate between two flood map ndarrays\n",
    "    \"\"\"\n",
    "    rp_factor = (np.log(rp) - np.log(rp_l)) / (np.log(rp_u) - np.log(rp_l))\n",
    "    depth = depth_l + ((depth_u - depth_l) * rp_factor)\n",
    "\n",
    "    return depth"
   ]
  },
  {
   "cell_type": "code",
   "execution_count": 176,
   "id": "9ceccb0c-454a-4eff-bb03-d4d3d16d8539",
   "metadata": {},
   "outputs": [],
   "source": [
    "def pick_upper_lower_rps(rp: float, rps: list[float]) -> tuple[float]:\n",
    "    bin_index = np.searchsorted(rps, rp, side=\"left\")\n",
    "    rp_l = rps[bin_index - 1]\n",
    "    rp_u = rps[bin_index]\n",
    "    return rp_l, rp_u"
   ]
  },
  {
   "cell_type": "code",
   "execution_count": 177,
   "id": "4387c33b-1701-4065-9ab8-dc750dd1e9d2",
   "metadata": {},
   "outputs": [],
   "source": [
    "def calculate_rp_maps(rps_to_calculate, rps_input):\n",
    "    # Read all data\n",
    "    depths = read_rp_maps(rps_input)\n",
    "    baseline_rps = list(depths.keys())\n",
    "    # Read metadata\n",
    "    ## The 1e-3 I think means that it is not quite 0, just above it. Hence possibly why we get the 0.001 as an output of the next box.\n",
    "    crs, width, height, transform = read_metadata(rps_input[baseline_rps[0]])\n",
    "    depths[1e-3] = np.zeros((height, width))\n",
    "    depths[2.0] = np.zeros((height, width))\n",
    "    depths[1e6] = depths[max(baseline_rps)]\n",
    "    baseline_rps = [1e-3, 2] + sorted(baseline_rps) + [1e6]\n",
    "\n",
    "# Calculate and save interpolated depths for new return periods\n",
    "\n",
    "    for rp, output_fname in rps_to_calculate.items():\n",
    "        rp_l, rp_u = pick_upper_lower_rps(rp, baseline_rps)\n",
    "        print(rp_l, rp_u)\n",
    "        depth = interpolate_depth(rp, rp_l, depths[rp_l], rp_u, depths[rp_u])\n",
    "\n",
    "# Save the output depth map to the specified file\n",
    "\n",
    "        save_to_tif(depth, output_fname, crs, transform)"
   ]
  },
  {
   "cell_type": "code",
   "execution_count": 178,
   "id": "7157505b-98f9-4047-8d6a-b373c6099d01",
   "metadata": {},
   "outputs": [
    {
     "name": "stdout",
     "output_type": "stream",
     "text": [
      "0.001 2\n",
      "2 20\n",
      "2 20\n"
     ]
    }
   ],
   "source": [
    "# Develop tifs for the return periods that are missing: RP2, RP5, RP10. \n",
    "\n",
    "# Input return periods and file paths\n",
    "\n",
    "rps_input = {\n",
    "    20: hazards_path / \"JM_FLRF_UD_Q20_RD_02.tif\",\n",
    "    50: hazards_path / \"JM_FLRF_UD_Q50_RD_02.tif\",\n",
    "    100: hazards_path / \"JM_FLRF_UD_Q100_RD_02.tif\",\n",
    "    200: hazards_path / \"JM_FLRF_UD_Q200_RD_02.tif\",\n",
    "    500: hazards_path / \"JM_FLRF_UD_Q500_RD_02.tif\"\n",
    "}\n",
    "\n",
    "# Define output return periods\n",
    "\n",
    "rps_to_calculate = {\n",
    "    2: hazards_path / \"JM_FLRF_UD_Q2_RD_02_aligned.tif\",\n",
    "    5: hazards_path / \"JM_FLRF_UD_Q5_RD_02_aligned.tif\",\n",
    "    10: hazards_path / \"JM_FLRF_UD_Q10_RD_02_aligned.tif\"\n",
    "}\n",
    "\n",
    "# Define the reference raster\n",
    "reference_raster = hazards_path / \"JM_FLRF_UD_Q20_RD_02.tif\"\n",
    "\n",
    "# Reproject and align all input rasters\n",
    "aligned_rasters = {}\n",
    "with rasterio.open(reference_raster) as ref:\n",
    "    ref_crs = ref.crs\n",
    "    ref_transform = ref.transform\n",
    "    ref_shape = (ref.height, ref.width)\n",
    "    \n",
    "    for rp, raster_path in rps_input.items():\n",
    "        output_path = hazards_path / f\"{raster_path.stem}_aligned.tif\"\n",
    "        reproject_raster(raster_path, output_path, ref_crs, ref_shape, ref_transform)\n",
    "        aligned_rasters[rp] = output_path\n",
    "\n",
    "# Update rps_input to use aligned rasters\n",
    "rps_input = aligned_rasters\n",
    "\n",
    "# Call the calculate_rp_maps function\n",
    "calculate_rp_maps(rps_to_calculate, rps_input)\n",
    "\n",
    "rp_data = read_rp_maps(rps_input)"
   ]
  },
  {
   "cell_type": "code",
   "execution_count": 179,
   "id": "15185bb9-563a-4c34-839f-ae47dd49b66e",
   "metadata": {},
   "outputs": [
    {
     "name": "stdout",
     "output_type": "stream",
     "text": [
      "Loaded return periods: dict_keys([20, 50, 100, 200, 500])\n",
      "Data for RP 20: [[0. 0. 0. ... 0. 0. 0.]\n",
      " [0. 0. 0. ... 0. 0. 0.]\n",
      " [0. 0. 0. ... 0. 0. 0.]\n",
      " ...\n",
      " [0. 0. 0. ... 0. 0. 0.]\n",
      " [0. 0. 0. ... 0. 0. 0.]\n",
      " [0. 0. 0. ... 0. 0. 0.]]\n"
     ]
    }
   ],
   "source": [
    "print(\"Loaded return periods:\", rp_data.keys())\n",
    "print(\"Data for RP 20:\", rp_data[20])  # Print the NumPy array for RP 20"
   ]
  },
  {
   "cell_type": "code",
   "execution_count": 180,
   "id": "b20656be-6b32-4d30-b249-e1b6c7586478",
   "metadata": {},
   "outputs": [
    {
     "name": "stdout",
     "output_type": "stream",
     "text": [
      "Checking input files...\n"
     ]
    }
   ],
   "source": [
    "print(\"Checking input files...\")\n",
    "for rp, path in rps_input.items():\n",
    "    if not Path(path).exists():\n",
    "        print(f\"Input file not found: {path}\")"
   ]
  },
  {
   "cell_type": "code",
   "execution_count": 181,
   "id": "ef75f9b4-6df2-4051-9de7-b4aa52217748",
   "metadata": {},
   "outputs": [
    {
     "name": "stdout",
     "output_type": "stream",
     "text": [
      "Data for RP 2: [[0. 0. 0. ... 0. 0. 0.]\n",
      " [0. 0. 0. ... 0. 0. 0.]\n",
      " [0. 0. 0. ... 0. 0. 0.]\n",
      " ...\n",
      " [0. 0. 0. ... 0. 0. 0.]\n",
      " [0. 0. 0. ... 0. 0. 0.]\n",
      " [0. 0. 0. ... 0. 0. 0.]]\n"
     ]
    }
   ],
   "source": [
    "output_file = hazards_path / \"JM_FLRF_UD_Q2_RD_02.tif\"\n",
    "with rasterio.open(output_file) as dataset:\n",
    "    data = dataset.read(1)\n",
    "    print(\"Data for RP 2:\", data)"
   ]
  },
  {
   "cell_type": "code",
   "execution_count": 182,
   "id": "196d93fe-8992-4487-9ed6-841ee2eb9167",
   "metadata": {},
   "outputs": [
    {
     "name": "stdout",
     "output_type": "stream",
     "text": [
      "Expected output files:\n",
      "2: /Users/robynhaggis/Documents/Geospatial_analysis/Processed_data/Hazards/JM_FLRF_UD_Q2_RD_02_aligned.tif\n",
      "5: /Users/robynhaggis/Documents/Geospatial_analysis/Processed_data/Hazards/JM_FLRF_UD_Q5_RD_02_aligned.tif\n",
      "10: /Users/robynhaggis/Documents/Geospatial_analysis/Processed_data/Hazards/JM_FLRF_UD_Q10_RD_02_aligned.tif\n"
     ]
    }
   ],
   "source": [
    "print(\"Expected output files:\")\n",
    "for rp, path in rps_to_calculate.items():\n",
    "    print(f\"{rp}: {path}\")"
   ]
  },
  {
   "cell_type": "markdown",
   "id": "146580a3-6ca9-4c81-845f-8b8e635088ba",
   "metadata": {},
   "source": [
    "### Step 4: Define how return period changes according to percentage change in peak flow"
   ]
  },
  {
   "cell_type": "code",
   "execution_count": 183,
   "id": "ac105670-bb46-4987-b389-06bd6f54a054",
   "metadata": {},
   "outputs": [
    {
     "data": {
      "text/html": [
       "<div>\n",
       "<style scoped>\n",
       "    .dataframe tbody tr th:only-of-type {\n",
       "        vertical-align: middle;\n",
       "    }\n",
       "\n",
       "    .dataframe tbody tr th {\n",
       "        vertical-align: top;\n",
       "    }\n",
       "\n",
       "    .dataframe thead th {\n",
       "        text-align: right;\n",
       "    }\n",
       "</style>\n",
       "<table border=\"1\" class=\"dataframe\">\n",
       "  <thead>\n",
       "    <tr style=\"text-align: right;\">\n",
       "      <th></th>\n",
       "      <th>flow</th>\n",
       "      <th>rp2</th>\n",
       "      <th>rp10</th>\n",
       "      <th>rp20</th>\n",
       "      <th>rp50</th>\n",
       "      <th>rp100</th>\n",
       "      <th>rp500</th>\n",
       "      <th>rp1000</th>\n",
       "    </tr>\n",
       "  </thead>\n",
       "  <tbody>\n",
       "    <tr>\n",
       "      <th>0</th>\n",
       "      <td>0.95</td>\n",
       "      <td>2.4</td>\n",
       "      <td>13</td>\n",
       "      <td>27.797332</td>\n",
       "      <td>72</td>\n",
       "      <td>147</td>\n",
       "      <td>772</td>\n",
       "      <td>1571</td>\n",
       "    </tr>\n",
       "    <tr>\n",
       "      <th>1</th>\n",
       "      <td>0.90</td>\n",
       "      <td>3.2</td>\n",
       "      <td>19</td>\n",
       "      <td>40.894524</td>\n",
       "      <td>107</td>\n",
       "      <td>224</td>\n",
       "      <td>1229</td>\n",
       "      <td>2544</td>\n",
       "    </tr>\n",
       "    <tr>\n",
       "      <th>2</th>\n",
       "      <td>0.80</td>\n",
       "      <td>6.8</td>\n",
       "      <td>43</td>\n",
       "      <td>97.099839</td>\n",
       "      <td>268</td>\n",
       "      <td>582</td>\n",
       "      <td>3441</td>\n",
       "      <td>7345</td>\n",
       "    </tr>\n",
       "    <tr>\n",
       "      <th>3</th>\n",
       "      <td>0.60</td>\n",
       "      <td>196.0</td>\n",
       "      <td>473</td>\n",
       "      <td>1003.870214</td>\n",
       "      <td>2967</td>\n",
       "      <td>6648</td>\n",
       "      <td>43094</td>\n",
       "      <td>95943</td>\n",
       "    </tr>\n",
       "  </tbody>\n",
       "</table>\n",
       "</div>"
      ],
      "text/plain": [
       "   flow    rp2  rp10         rp20  rp50  rp100  rp500  rp1000\n",
       "0  0.95    2.4    13    27.797332    72    147    772    1571\n",
       "1  0.90    3.2    19    40.894524   107    224   1229    2544\n",
       "2  0.80    6.8    43    97.099839   268    582   3441    7345\n",
       "3  0.60  196.0   473  1003.870214  2967   6648  43094   95943"
      ]
     },
     "execution_count": 183,
     "metadata": {},
     "output_type": "execute_result"
    }
   ],
   "source": [
    "# Top row outlines change in peak flow. \n",
    "## Subsequent rows define the return period and what it becomes.\n",
    "### Assume for return period of 2 or below, flood depth is 0, i.e. the infrastructure asset experiences no damage. \n",
    "\n",
    "\n",
    "#Tom_flow_reductions = pandas.DataFrame({\n",
    "#    'reduction_percent': [5, 10, 20, 30],\n",
    "#    'rp2': [2.4, 2.9, 4.8, 7.6],\n",
    "#    'rp10': [13,18,33,55.5],\n",
    "#    'rp50': [67,90,173,297],\n",
    "#    'rp100': [133,180,346,594],\n",
    "#    'rp200': [266,359,690,1188],\n",
    "#    'rp1000': [1327,1788,3419,5941],\n",
    "#})\n",
    "\n",
    "# Need to add in 30 and check them as 2.3 and 5 are the same\n",
    "CCRA_flow_reductions = pandas.DataFrame({\n",
    "    'reduction_percent': [5, 10, 20, 40],\n",
    "    'rp2': [2.4, 3.2, 6.8, 196],\n",
    "    'rp2.3': [2.8, 3.7, 7.9, 169],\n",
    "    'rp5': [6.5, 8.9, 19, 235],\n",
    "    'rp10': [13,19,43,473],\n",
    "    'rp25': [35, 51, 123, 1330],\n",
    "    'rp50': [72,107,268,2967],\n",
    "    'rp100': [147,224,582, 6648],\n",
    "    #'rp200': [266,359,690,1188],\n",
    "    'rp500': [772,1229,3441,43094],\n",
    "    'rp1000': [1571,2544,7345,95943],\n",
    "})\n",
    "\n",
    "# proportion of baseline flow\n",
    "CCRA_flow_reductions['flow'] = (1 - CCRA_flow_reductions.reduction_percent / 100)\n",
    "\n",
    "\n",
    "\n",
    "# The below code is used to interpolate based on the current return periods (2,12,50,100,500,1000) to define a new return period (20)\n",
    "## interpolate RP20 values\n",
    "known_rps = [2, 10, 50, 100, 200, 1000]\n",
    "flows = CCRA_flow_reductions['flow'].values\n",
    "\n",
    "interpolator = scipy.interpolate.RegularGridInterpolator(\n",
    "    (known_rps, flows),\n",
    "    CCRA_flow_reductions[['rp2', 'rp10', 'rp50', 'rp100', 'rp500', 'rp1000']].values.T,\n",
    "    method='cubic'\n",
    ")\n",
    "\n",
    "rps_new = [[20]]\n",
    "CCRA_flow_reductions['rp20'] = interpolator((rps_new, [flows]))[0]\n",
    "\n",
    "CCRA_flow_reductions[['flow', 'rp2', 'rp10', 'rp20', 'rp50', 'rp100', 'rp500', 'rp1000']]"
   ]
  },
  {
   "cell_type": "code",
   "execution_count": 188,
   "id": "5d3aae42-047c-4156-8ddc-78fa82d09629",
   "metadata": {},
   "outputs": [
    {
     "data": {
      "text/html": [
       "<div>\n",
       "<style scoped>\n",
       "    .dataframe tbody tr th:only-of-type {\n",
       "        vertical-align: middle;\n",
       "    }\n",
       "\n",
       "    .dataframe tbody tr th {\n",
       "        vertical-align: top;\n",
       "    }\n",
       "\n",
       "    .dataframe thead th {\n",
       "        text-align: right;\n",
       "    }\n",
       "</style>\n",
       "<table border=\"1\" class=\"dataframe\">\n",
       "  <thead>\n",
       "    <tr style=\"text-align: right;\">\n",
       "      <th></th>\n",
       "      <th>reduction_percent</th>\n",
       "      <th>rp2</th>\n",
       "      <th>rp2.3</th>\n",
       "      <th>rp5</th>\n",
       "      <th>rp10</th>\n",
       "      <th>rp25</th>\n",
       "      <th>rp50</th>\n",
       "      <th>rp100</th>\n",
       "      <th>rp500</th>\n",
       "      <th>rp1000</th>\n",
       "      <th>flow</th>\n",
       "      <th>rp20</th>\n",
       "    </tr>\n",
       "  </thead>\n",
       "  <tbody>\n",
       "    <tr>\n",
       "      <th>0</th>\n",
       "      <td>5</td>\n",
       "      <td>2.4</td>\n",
       "      <td>2.8</td>\n",
       "      <td>6.5</td>\n",
       "      <td>13</td>\n",
       "      <td>35</td>\n",
       "      <td>72</td>\n",
       "      <td>147</td>\n",
       "      <td>772</td>\n",
       "      <td>1571</td>\n",
       "      <td>0.95</td>\n",
       "      <td>27.797332</td>\n",
       "    </tr>\n",
       "    <tr>\n",
       "      <th>1</th>\n",
       "      <td>10</td>\n",
       "      <td>3.2</td>\n",
       "      <td>3.7</td>\n",
       "      <td>8.9</td>\n",
       "      <td>19</td>\n",
       "      <td>51</td>\n",
       "      <td>107</td>\n",
       "      <td>224</td>\n",
       "      <td>1229</td>\n",
       "      <td>2544</td>\n",
       "      <td>0.90</td>\n",
       "      <td>40.894524</td>\n",
       "    </tr>\n",
       "    <tr>\n",
       "      <th>2</th>\n",
       "      <td>20</td>\n",
       "      <td>6.8</td>\n",
       "      <td>7.9</td>\n",
       "      <td>19.0</td>\n",
       "      <td>43</td>\n",
       "      <td>123</td>\n",
       "      <td>268</td>\n",
       "      <td>582</td>\n",
       "      <td>3441</td>\n",
       "      <td>7345</td>\n",
       "      <td>0.80</td>\n",
       "      <td>97.099839</td>\n",
       "    </tr>\n",
       "    <tr>\n",
       "      <th>3</th>\n",
       "      <td>40</td>\n",
       "      <td>196.0</td>\n",
       "      <td>169.0</td>\n",
       "      <td>235.0</td>\n",
       "      <td>473</td>\n",
       "      <td>1330</td>\n",
       "      <td>2967</td>\n",
       "      <td>6648</td>\n",
       "      <td>43094</td>\n",
       "      <td>95943</td>\n",
       "      <td>0.60</td>\n",
       "      <td>1003.870214</td>\n",
       "    </tr>\n",
       "  </tbody>\n",
       "</table>\n",
       "</div>"
      ],
      "text/plain": [
       "   reduction_percent    rp2  rp2.3    rp5  rp10  rp25  rp50  rp100  rp500  \\\n",
       "0                  5    2.4    2.8    6.5    13    35    72    147    772   \n",
       "1                 10    3.2    3.7    8.9    19    51   107    224   1229   \n",
       "2                 20    6.8    7.9   19.0    43   123   268    582   3441   \n",
       "3                 40  196.0  169.0  235.0   473  1330  2967   6648  43094   \n",
       "\n",
       "   rp1000  flow         rp20  \n",
       "0    1571  0.95    27.797332  \n",
       "1    2544  0.90    40.894524  \n",
       "2    7345  0.80    97.099839  \n",
       "3   95943  0.60  1003.870214  "
      ]
     },
     "metadata": {},
     "output_type": "display_data"
    }
   ],
   "source": [
    "display(CCRA_flow_reductions.head())"
   ]
  },
  {
   "cell_type": "code",
   "execution_count": 184,
   "id": "ee4006c5-1f4c-403b-ad8a-39cc021740f8",
   "metadata": {},
   "outputs": [
    {
     "name": "stdout",
     "output_type": "stream",
     "text": [
      "2.4 13.0\n",
      "13.0 27.797332285797815\n",
      "27.797332285797815 72.0\n",
      "72.0 147.0\n",
      "3.2 19.0\n",
      "19.0 40.894523984030975\n",
      "40.894523984030975 107.0\n",
      "40.894523984030975 107.0\n",
      "6.8 43.0\n",
      "6.8 43.0\n",
      "43.0 97.09983855594614\n",
      "97.09983855594614 268.0\n",
      "2 196.0\n",
      "2 196.0\n",
      "2 196.0\n",
      "2 196.0\n"
     ]
    }
   ],
   "source": [
    "\n",
    "for _, row in CCRA_flow_reductions.iterrows():\n",
    "    flow = row.flow\n",
    "    \n",
    "    # declare desired output RP and filename\n",
    "    rps_to_calculate = {\n",
    "        10: hazards_path / f\"JM_FLRF_UD_Q10_RD_02_flow{flow}.tif\",\n",
    "        20: hazards_path / f\"JM_FLRF_UD_Q20_RD_02_flow{flow}.tif\",\n",
    "        50: hazards_path / f\"JM_FLRF_UD_Q50_RD_02_flow{flow}.tif\",\n",
    "        100: hazards_path / f\"JM_FLRF_UD_Q100_RD_02_flow{flow}.tif\",\n",
    "    }\n",
    "    # use baseline RP maps \"mislabelled\" as after change in flow\n",
    "    rps_input = {\n",
    "        row.rp2: hazards_path / \"JM_FLRF_UD_Q2_RD_02_aligned.tif\",\n",
    "        row.rp10: hazards_path / \"JM_FLRF_UD_Q10_RD_02_aligned.tif\",\n",
    "        row.rp20: hazards_path / \"JM_FLRF_UD_Q20_RD_02_aligned.tif\",\n",
    "        row.rp50: hazards_path / \"JM_FLRF_UD_Q50_RD_02_aligned.tif\",\n",
    "        row.rp100: hazards_path / \"JM_FLRF_UD_Q100_RD_02_aligned.tif\",\n",
    "    }\n",
    "    calculate_rp_maps(rps_to_calculate, rps_input)\n"
   ]
  },
  {
   "cell_type": "code",
   "execution_count": 185,
   "id": "7062b3ff-06d4-449f-9fef-43a1f7b462e5",
   "metadata": {},
   "outputs": [],
   "source": [
    "for rp, path in {**rps_to_calculate, **rps_input}.items():\n",
    "    if not Path(path).exists():\n",
    "        print(f\"File not found: {path}\")"
   ]
  },
  {
   "cell_type": "code",
   "execution_count": 186,
   "id": "05a57423-ab51-4d91-8d3f-a8d01c2f97a4",
   "metadata": {},
   "outputs": [
    {
     "name": "stdout",
     "output_type": "stream",
     "text": [
      "All files in hazards_path:\n",
      "JM_FLRF_UD_Q50_RD_02.tfw\n",
      "JM_FLRF_UD_Q10_RD_02_aligned.tif\n",
      "JM_FLRF_UD_Q50_RD_02.tif\n",
      "JM_FLRF_UD_Q1500_RD_02.tif.ovr\n",
      "JM_FLRF_UD_Q50_RD_02.tif.xml\n",
      ".DS_Store\n",
      "JM_FLRF_UD_Q50_RD_02_flow0.8.tif\n",
      "JM_FLRF_UD_Q50_RD_02_flow0.9.tif\n",
      "JM_FLRF_UD_Q100_RD_02_flow0.9.tif\n",
      "JM_FLRF_UD_Q20_RD_02_aligned.tif\n",
      "JM_FLRF_UD_Q100_RD_02.tif.xml\n",
      "JM_FLRF_UD_Q20_RD_02.tif.xml\n",
      "JM_FLRF_UD_Q5_RD_02-aligned.tif\n",
      "JM_FLRF_UD_Q100_RD_02_flow0.8.tif\n",
      "JM_FLRF_UD_Q20_RD_02.tif.aux.xml\n",
      "JM_FLRF_UD_Q500_RD_02.tfw\n",
      "JM_FLRF_UD_Q20_RD_02_flow0.6.tif\n",
      "JM_FLRF_UD_Q500_RD_02.tif\n",
      "JM_FLRF_UD_Q1500_RD_02.tif.xml\n",
      "JM_FLRF_UD_Q50_RD_02.tif.ovr\n",
      "JM_FLRF_UD_Q2_RD_02-aligned.tif\n",
      "JM_FLRF_UD_Q10_RD_02_flow0.6.tif\n",
      "JM_FLRF_UD_Q20_RD_02.tif\n",
      "JM_FLRF_UD_Q20_RD_02.tif.ovr\n",
      "JM_FLRF_UD_Q100_RD_02.tif.ovr\n",
      "JM_FLRF_UD_Q20_RD_02.tfw\n",
      "JM_FLRF_UD_Q10_RD_02_flow0.8.tif\n",
      "JM_FLRF_UD_Q2_RD_02_aligned.tif\n",
      "JM_FLRF_UD_Q50_RD_02_flow0.95.tif\n",
      "JM_FLRF_UD_Q10_RD_02_flow0.9.tif\n",
      "JM_FLRF_UD_Q200_RD_02.tif.xml\n",
      "JM_FLRF_UD_Q500_RD_02_aligned.tif\n",
      "JM_FLRF_UD_Q10_RD_02.tif\n",
      "JM_FLRF_UD_Q10_RD_02_flow0.95.tif\n",
      "JM_FLRF_UD_Q200_RD_02.tfw\n",
      "JM_FLRF_UD_Q500_RD_02.tif.xml\n",
      "JM_FLRF_UD_Q200_RD_02.tif\n",
      "JM_FLRF_UD_Q200_RD_02_aligned.tif\n",
      "JM_FLRF_UD_Q50_RD_02_aligned.tif\n",
      "JM_FLRF_UD_Q1500_RD_02.tif.aux.xml\n",
      "JM_FLRF_UD_Q5_RD_02.tif\n",
      "JM_FLRF_UD_Q100_RD_02_aligned.tif\n",
      "JM_FLRF_UD_Q20_RD_02_flow0.9.tif\n",
      "JM_FLRF_UD_Q20_RD_02_flow0.8.tif\n",
      "JM_FLRF_UD_Q20_RD_02_flow0.95.tif\n",
      "JM_FLRF_UD_Q1500_RD_02.tif\n",
      "JM_FLRF_UD_Q100_RD_02.tif.aux.xml\n",
      "JM_FLRF_UD_Q50_RD_02_flow0.6.tif\n",
      "JM_FLRF_UD_Q1500_RD_02.tfw\n",
      "JM_FLRF_UD_Q100_RD_02_flow0.6.tif\n",
      "JM_FLRF_UD_Q5_RD_02_aligned.tif\n",
      "JM_FLRF_UD_Q100_RD_02.tif\n",
      "JM_FLRF_UD_Q100_RD_02.tfw\n",
      "JM_FLRF_UD_Q50_RD_02.tif.aux.xml\n",
      "JM_FLRF_UD_Q200_RD_02.tif.ovr\n",
      "JM_FLRF_UD_Q200_RD_02.tif.aux.xml\n",
      "JM_FLRF_UD_Q2_RD_02.tif\n",
      "JM_FLRF_UD_Q10_RD_02-aligned.tif\n",
      "JM_FLRF_UD_Q500_RD_02.tif.ovr\n",
      "JM_FLRF_UD_Q100_RD_02_flow0.95.tif\n",
      "JM_FLRF_UD_Q500_RD_02.tif.aux.xml\n"
     ]
    }
   ],
   "source": [
    "print(\"All files in hazards_path:\")\n",
    "for file in hazards_path.iterdir():\n",
    "    print(file.name)"
   ]
  },
  {
   "cell_type": "code",
   "execution_count": null,
   "id": "18351e9d-57be-48e3-9e3f-732fab99e6aa",
   "metadata": {},
   "outputs": [],
   "source": []
  },
  {
   "cell_type": "code",
   "execution_count": null,
   "id": "e99de45d-97ba-44ae-afba-7f5137526445",
   "metadata": {},
   "outputs": [],
   "source": []
  }
 ],
 "metadata": {
  "kernelspec": {
   "display_name": "Python 3 (ipykernel)",
   "language": "python",
   "name": "python3"
  },
  "language_info": {
   "codemirror_mode": {
    "name": "ipython",
    "version": 3
   },
   "file_extension": ".py",
   "mimetype": "text/x-python",
   "name": "python",
   "nbconvert_exporter": "python",
   "pygments_lexer": "ipython3",
   "version": "3.12.2"
  }
 },
 "nbformat": 4,
 "nbformat_minor": 5
}
